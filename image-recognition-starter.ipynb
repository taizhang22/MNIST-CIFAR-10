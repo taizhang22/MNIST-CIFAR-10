{
 "cells": [
  {
   "cell_type": "markdown",
   "metadata": {
    "collapsed": true
   },
   "source": [
    "Image Recognition\n",
    "===\n",
    "\n",
    "This notebook will create a convolutional neural network to classify images in either the mnist or cifar-10 datasets."
   ]
  },
  {
   "cell_type": "code",
   "execution_count": 7,
   "metadata": {},
   "outputs": [
    {
     "name": "stdout",
     "output_type": "stream",
     "text": [
      "x_train shape: (60000, 28, 28) y_train shape: (60000,)\n",
      "(60000, 28, 28)\n",
      "(60000, 28, 28, 1)\n"
     ]
    }
   ],
   "source": [
    "image_height = 28\n",
    "image_width = 28\n",
    "\n",
    "color_channels = 1\n",
    "\n",
    "model_name = \"fashion-mnist\"\n",
    "\n",
    "\n",
    "# Tensorflow and numpy to create the neural network\n",
    "import tensorflow as tf\n",
    "import numpy as np\n",
    "\n",
    "# Matplotlib to plot info to show our results\n",
    "import matplotlib.pyplot as plt\n",
    "\n",
    "# OS to load files and save checkpoints\n",
    "import os\n",
    "\n",
    "%matplotlib inline\n",
    "\n",
    "#Other stuff\n",
    "import seaborn as sns\n",
    "from tensorflow.python.framework import ops\n",
    "import os\n",
    "import cv2\n",
    "import PIL\n",
    "\n",
    "\n",
    "(x_train, y_train), (x_test, y_test) = tf.keras.datasets.fashion_mnist.load_data()\n",
    "print(\"x_train shape:\", x_train.shape, \"y_train shape:\", y_train.shape)\n",
    "\n",
    "# Show one of the images from the training dataset\n",
    "\n",
    "train_data = x_train\n",
    "train_labels = np.asarray(y_train, dtype=np.int32)\n",
    "\n",
    "eval_data = x_test\n",
    "\n",
    "eval_labels = np.asarray(y_test, dtype=np.int32)\n",
    "\n",
    "\n",
    "category_names = list(map(str, range(10)))\n",
    "\n",
    "# TODO: Process mnist data\n",
    "print (train_data.shape)\n",
    "\n",
    "train_data = np.reshape(train_data, (-1, 28, 28, 1))\n",
    "\n",
    "print (train_data.shape)\n",
    "\n",
    "eval_data = np.reshape(eval_data, (-1, 28, 28, 1))\n"
   ]
  },
  {
   "cell_type": "markdown",
   "metadata": {},
   "source": [
    "Loading the data\n",
    "---\n",
    "\n",
    "This code will load the dataset that you'll use to train and test the model.\n",
    "\n",
    "The code provided will load the mnist or cifar data from files, you'll need to add the code that processes it into a format your neural network can use."
   ]
  },
  {
   "cell_type": "code",
   "execution_count": null,
   "metadata": {
    "collapsed": true
   },
   "outputs": [],
   "source": []
  },
  {
   "cell_type": "markdown",
   "metadata": {},
   "source": [
    "CIFAR-10\n",
    "---\n",
    "\n",
    "Run this cell to load cifar-10 data"
   ]
  },
  {
   "cell_type": "code",
   "execution_count": null,
   "metadata": {
    "collapsed": true
   },
   "outputs": [],
   "source": []
  },
  {
   "cell_type": "markdown",
   "metadata": {},
   "source": [
    "Once the data is processed, you have a few variables for the data itself and info about its shape:\n",
    "\n",
    "### Model Info\n",
    "\n",
    "- **image_height, image_width** - The height and width of the processed images\n",
    "- **color_channels** - the number of color channels in the image. This will be either 1 for grayscale or 3 for rgb.\n",
    "- **model_name** - either \"cifar\" or \"mnist\" - if you need to handle anything differently based on the model, check this variable.\n",
    "- **category_names** - strings for each category name (used to print out labels when testing results)\n",
    "\n",
    "### Training Data\n",
    "\n",
    "- **train_data** - the training data images\n",
    "- **train_labels** - the labels for the training data - the \"answer key\"\n",
    "\n",
    "### Evaluation Data\n",
    "\n",
    "- **eval_data** - Image data for evaluation. A different set of images to test your network's effectiveness.\n",
    "- **eval_labels** - the answer key for evaluation data.\n",
    "\n",
    "Building the Neural Network Model\n",
    "--\n",
    "\n",
    "Next, you'll build a neural network with the following architecture:\n",
    "\n",
    "- An input placeholder that takes one or more images.\n",
    "- 1st Convolutional layer with 32 filters and a kernel size of 5x5 and same padding\n",
    "- 1st Pooling layer with a 2x2 pool size and stride of 2\n",
    "- 2nd Convolutional layer with 64 filters and a kernel size of 5x5 and same padding\n",
    "- 2nd Pooling layer with a 2x2 pool size and stride of 2\n",
    "- Flatten the pooling layer\n",
    "- A fully connected layer with 1024 units\n",
    "- A dropout layer with a rate of 0.4\n",
    "- An output layer with an output size equal to the number of labels."
   ]
  },
  {
   "cell_type": "code",
   "execution_count": 242,
   "metadata": {},
   "outputs": [
    {
     "name": "stdout",
     "output_type": "stream",
     "text": [
      "(?, 2, 28, 28)\n",
      "(?, 2, 28, 32)\n",
      "(?, 1, 14, 32)\n",
      "(?, 2, 28, 64)\n",
      "(?, 1, 14, 64)\n",
      "(?, 1024)\n",
      "(?, 10)\n",
      "Tensor(\"dense_3/BiasAdd:0\", shape=(?, 10), dtype=float32)\n"
     ]
    }
   ],
   "source": [
    "# TODO: The neural network\n",
    "class ConvNet:\n",
    "    \n",
    "    def __init__(self, image_height, image_width, channels, num_classes):\n",
    "        \n",
    "        self.input_layer = tf.placeholder(dtype = tf.float32, shape=[None, image_height, image_width, channels], name = \"inputs\")\n",
    "        print (self.input_layer.shape)\n",
    "        #input layer input layer shape\n",
    "        \n",
    "        \n",
    "        conv_layer_1 = tf.layers.conv2d(self.input_layer, filters = 32, kernel_size=[5,5], padding=\"same\", activation=tf.nn.relu)\n",
    "        print(conv_layer_1.shape)\n",
    "        #first conv layer\n",
    "        \n",
    "        pooling_layer_1 = tf.layers.max_pooling2d(conv_layer_1, pool_size=[2,2], strides=2)\n",
    "        print(pooling_layer_1.shape)\n",
    "        #pooling to reduce the size, as it's super big, halves the size\n",
    "        \n",
    "        \n",
    "        conv_layer_2 = tf.layers.conv2d(self.input_layer, filters = 64, kernel_size=[5,5], padding=\"same\", activation=tf.nn.relu)\n",
    "        print(conv_layer_2.shape)\n",
    "        #nother conv layer that recieves from the pooling, filters doubled because it can?\n",
    "        \n",
    "        pooling_layer_2 = tf.layers.max_pooling2d(conv_layer_2, pool_size = [2,2], strides = 2)\n",
    "        print(pooling_layer_2.shape)\n",
    "        #nother pooling layer\n",
    "        \n",
    "        flattened_pooling = tf.layers.flatten(pooling_layer_2)\n",
    "        dense_layer = tf.layers.dense(flattened_pooling, 1024, activation=tf.nn.relu)\n",
    "        print(dense_layer.shape)\n",
    "        #lattens the 2d image filters?\n",
    "        \n",
    "        dropout = tf.layers.dropout(dense_layer, rate=0.4, training = True)\n",
    "        #tomatically drops out some neurons to ensure a complete network \n",
    "        \n",
    "        outputs = tf.layers.dense(dropout, num_classes)\n",
    "        print(outputs.shape)\n",
    "        print(outputs)\n",
    "        #final layer\n",
    "\n",
    "        #network of neurons set up, now we need hooks to test/train network\n",
    "        \n",
    "        self.choice = tf.argmax(outputs, axis=1)\n",
    "        #finds highest weight element, recieve class predictions\n",
    "        self.probability = tf.nn.softmax(outputs)\n",
    "        #return a tensor with decimal probabilities\n",
    "        \n",
    "        \n",
    "        self.labels = tf.placeholder(dtype = tf.float32, name=\"labels\")\n",
    "        #making the labels\n",
    "        \n",
    "        self.accuracy, self.accuracy_op = tf.metrics.accuracy(self.labels, self.choice)\n",
    "        #?\n",
    "        \n",
    "        #apparently im using softmax and cross entrophy to make the loss function.\n",
    "        \n",
    "        one_hot_labels = tf.one_hot(indices=tf.cast(self.labels,dtype = tf.int32), depth=num_classes)\n",
    "        #utilizes one_hot encoding, and logits\n",
    "        \n",
    "        self.loss = tf.losses.softmax_cross_entropy(onehot_labels=one_hot_labels, logits=outputs)\n",
    "        #one hot encoding utilizes 0s and 1s\n",
    "        \n",
    "        optimizer = tf.train.GradientDescentOptimizer(learning_rate = 0.002)\n",
    "        self.train_operation = optimizer.minimize(loss=self.loss, global_step = tf.train.get_global_step())\n",
    "        #optimizer/training operation\n",
    "        \n",
    "        \n",
    "        \n",
    "CNN = ConvNet(2,28,28,10)"
   ]
  },
  {
   "cell_type": "markdown",
   "metadata": {},
   "source": [
    "The Training Process\n",
    "---\n",
    "\n",
    "The cells below will set up and run the training process.\n",
    "\n",
    "- Set up initial values for batch size, training length.\n",
    "- Process data into batched datasets to feed into the network.\n",
    "- Run through batches of training data, update weights, save checkpoints."
   ]
  },
  {
   "cell_type": "code",
   "execution_count": 216,
   "metadata": {
    "collapsed": true
   },
   "outputs": [],
   "source": [
    "# TODO: initialize variables\n",
    "\n",
    "training_steps = 2000\n",
    "batch_size = 64\n",
    "\n",
    "path = \"./\" + model_name + \"-cnn/\"\n",
    "\n",
    "load_checkpoint = True\n",
    "performance_graph = np.array([])"
   ]
  },
  {
   "cell_type": "code",
   "execution_count": 217,
   "metadata": {},
   "outputs": [
    {
     "name": "stdout",
     "output_type": "stream",
     "text": [
      "(?, 28, 28, 1)\n",
      "(?, 28, 28, 32)\n",
      "(?, 14, 14, 32)\n",
      "(?, 28, 28, 64)\n",
      "(?, 14, 14, 64)\n",
      "(?, 1024)\n",
      "(?, 10)\n",
      "INFO:tensorflow:Restoring parameters from ./fashion-mnist-cnn/fashion-mnist-1999\n",
      "Accuracy at step100: 0.947865\n",
      "Saving checkpoint\n",
      "Accuracy at step200: 0.952425\n",
      "Saving checkpoint\n",
      "Accuracy at step300: 0.952917\n",
      "Saving checkpoint\n",
      "Accuracy at step400: 0.953047\n",
      "Saving checkpoint\n",
      "Accuracy at step500: 0.953905\n",
      "Saving checkpoint\n",
      "Accuracy at step600: 0.954815\n",
      "Saving checkpoint\n",
      "Accuracy at step700: 0.955086\n",
      "Saving checkpoint\n",
      "Accuracy at step800: 0.955817\n",
      "Saving checkpoint\n",
      "Accuracy at step900: 0.956437\n",
      "Saving checkpoint\n",
      "Accuracy at step1000: 0.956615\n",
      "Saving checkpoint\n",
      "Accuracy at step1100: 0.957718\n",
      "Saving checkpoint\n",
      "Accuracy at step1200: 0.958273\n",
      "Saving checkpoint\n",
      "Accuracy at step1300: 0.95879\n",
      "Saving checkpoint\n",
      "Accuracy at step1400: 0.959512\n",
      "Saving checkpoint\n",
      "Accuracy at step1500: 0.96017\n",
      "Saving checkpoint\n",
      "Accuracy at step1600: 0.960754\n",
      "Saving checkpoint\n",
      "Accuracy at step1700: 0.961261\n",
      "Saving checkpoint\n",
      "Accuracy at step1800: 0.96179\n",
      "Saving checkpoint\n",
      "Accuracy at step1900: 0.962442\n",
      "Saving checkpoint\n",
      "Saving final checkpoint for training session.\n"
     ]
    }
   ],
   "source": [
    "# TODO: implement the training loop\n",
    "tf.reset_default_graph()\n",
    "\n",
    "dataset = tf.data.Dataset.from_tensor_slices((train_data,train_labels)) \n",
    "dataset = dataset.shuffle(buffer_size=train_labels.shape[0])\n",
    "dataset = dataset.batch(batch_size)\n",
    "dataset = dataset.repeat()\n",
    "\n",
    "dataset_iterator = dataset.make_initializable_iterator()\n",
    "next_element = dataset_iterator.get_next()\n",
    "\n",
    "\n",
    "cnn = ConvNet(image_height, image_width,color_channels,10)\n",
    "\n",
    "saver = tf.train.Saver(max_to_keep=2)\n",
    "\n",
    "if not os.path.exists(path):\n",
    "    os.makedirs(path)\n",
    "    \n",
    "with tf.Session() as sess:\n",
    "\n",
    "    if load_checkpoint:\n",
    "        checkpoint = tf.train.get_checkpoint_state(path)\n",
    "        saver.restore(sess, checkpoint.model_checkpoint_path)\n",
    "    else:\n",
    "        sess.run(tf.global_variables_initializer())\n",
    "\n",
    "    sess.run(tf.local_variables_initializer())\n",
    "    sess.run(dataset_iterator.initializer)\n",
    "    for step in range(training_steps):\n",
    "        current_batch = sess.run(next_element)\n",
    "\n",
    "        batch_inputs = current_batch[0]\n",
    "        batch_labels = current_batch[1]\n",
    "\n",
    "        sess.run((cnn.train_operation, cnn.accuracy_op), feed_dict={cnn.input_layer:batch_inputs, cnn.labels:batch_labels})\n",
    "        \n",
    "        if step % 10 == 0:\n",
    "            performance_graph = np.append(performance_graph, sess.run(cnn.accuracy))\n",
    "\n",
    "        if step % 100 == 0 and step > 0:\n",
    "            current_acc = sess.run(cnn.accuracy)\n",
    "\n",
    "            print(\"Accuracy at step\" + str(step) + \": \" + str(current_acc))\n",
    "            print (\"Saving checkpoint\")\n",
    "            saver.save(sess, path + model_name, step)\n",
    "\n",
    "    print (\"Saving final checkpoint for training session.\")\n",
    "    saver.save(sess, path + model_name, step)"
   ]
  },
  {
   "cell_type": "markdown",
   "metadata": {},
   "source": [
    "Evaluating Performance\n",
    "---\n",
    "\n",
    "These cells will evaluate the performance of your network!"
   ]
  },
  {
   "cell_type": "code",
   "execution_count": 207,
   "metadata": {},
   "outputs": [
    {
     "data": {
      "text/plain": [
       "Text(0,0.5,'Accuracy')"
      ]
     },
     "execution_count": 207,
     "metadata": {},
     "output_type": "execute_result"
    },
    {
     "data": {
      "image/png": "[encoded data removed]",
      "text/plain": [
       "<matplotlib.figure.Figure at 0x1ef33e32ac8>"
      ]
     },
     "metadata": {},
     "output_type": "display_data"
    },
    {
     "data": {
      "image/png": "[encoded data removed]",
      "text/plain": [
       "<matplotlib.figure.Figure at 0x1ef33e321d0>"
      ]
     },
     "metadata": {},
     "output_type": "display_data"
    }
   ],
   "source": [
    "# TODO: Display graph of performance over time\n",
    "\n",
    "plt.plot(performance_graph)\n",
    "plt.figure().set_facecolor('white')\n",
    "plt.xlabel(\"Steps\")\n",
    "plt.ylabel(\"Accuracy\")"
   ]
  },
  {
   "cell_type": "code",
   "execution_count": 28,
   "metadata": {},
   "outputs": [
    {
     "name": "stdout",
     "output_type": "stream",
     "text": [
      "INFO:tensorflow:Restoring parameters from ./fashion-mnist-cnn/fashion-mnist-999\n",
      "0.9048\n"
     ]
    }
   ],
   "source": [
    "# TODO: Run through the evaluation data set, check accuracy of model\n",
    "\n",
    "with tf.Session() as sess:\n",
    "    checkpoint = tf.train.get_checkpoint_state(path)\n",
    "    saver.restore(sess, checkpoint.model_checkpoint_path)\n",
    "    \n",
    "    sess.run(tf.local_variables_initializer())\n",
    "    \n",
    "    for image, label in zip(eval_data, eval_labels):\n",
    "        sess.run(cnn.accuracy_op, feed_dict = {cnn.input_layer:[image], cnn.labels:label})\n",
    "        \n",
    "    print (sess.run(cnn.accuracy))"
   ]
  },
  {
   "cell_type": "code",
   "execution_count": 245,
   "metadata": {},
   "outputs": [
    {
     "name": "stdout",
     "output_type": "stream",
     "text": [
      "INFO:tensorflow:Restoring parameters from ./fashion-mnist-cnn/fashion-mnist-1999\n"
     ]
    },
    {
     "data": {
      "image/png": "[encoded data removed]",
      "text/plain": [
       "<matplotlib.figure.Figure at 0x1ef33d3a0f0>"
      ]
     },
     "metadata": {},
     "output_type": "display_data"
    }
   ],
   "source": [
    "# TODO: Get a random set of images and make guesses for each\n",
    "\n",
    "label_dict = {\n",
    " 0: 'Tshirt',\n",
    " 1: 'Trouser',\n",
    " 2: 'Pullover',\n",
    " 3: 'Dress',\n",
    " 4: 'Coat',\n",
    " 5: 'Sandal',\n",
    " 6: 'Shirt',\n",
    " 7: 'Sneaker',\n",
    " 8: 'image',\n",
    " 9: 'Ankle boot'\n",
    "}\n",
    "\n",
    "\n",
    "\n",
    "with tf.Session() as sess:\n",
    "    checkpoint = tf.train.get_checkpoint_state(path)\n",
    "    saver.restore(sess, checkpoint.model_checkpoint_path)\n",
    "    \n",
    "    indexes = np.random.choice(len(eval_data), 10, replace=False)\n",
    "    \n",
    "\n",
    "    rows = 5\n",
    "    cols = 2\n",
    "     \n",
    "    fig, axes = plt.subplots(rows, cols, figsize=(10,10))\n",
    "    fig.patch.set_facecolor('white')\n",
    "    image_count = 0\n",
    "     \n",
    "    for idx in indexes:\n",
    "        image_count += 1\n",
    "        sub = plt.subplot(rows,cols,image_count)\n",
    "        img = eval_data[idx]\n",
    "        if model_name == \"fashion-mnist\":\n",
    "            \n",
    "            img = img.reshape(28, 28)\n",
    "        plt.imshow(img, cmap= 'Greys')\n",
    "        guess = sess.run(cnn.choice, feed_dict={cnn.input_layer:[eval_data[idx]]})\n",
    "        if model_name == \"fashion-mnist\":\n",
    "            guess_name = str(label_dict[guess[0]])\n",
    "            actual_name = str(label_dict[eval_labels[idx]])\n",
    "        else:\n",
    "            guess_name = category_names[guess[0]]\n",
    "            actual_name = category_names[eval_labels[idx]]\n",
    "        sub.set_title(\"G: \" + guess_name + \" A: \" + actual_name)\n",
    "    plt.tight_layout()"
   ]
  },
  {
   "cell_type": "code",
   "execution_count": 29,
   "metadata": {},
   "outputs": [
    {
     "name": "stdout",
     "output_type": "stream",
     "text": [
      "INFO:tensorflow:Restoring parameters from ./fashion-mnist-cnn/fashion-mnist-999\n"
     ]
    }
   ],
   "source": [
    "#Testing the neural network\n",
    "\n",
    "with tf.Session() as sess:\n",
    "    checkpoint = tf.train.get_checkpoint_state(path)\n",
    "    saver.restore(sess, checkpoint.model_checkpoint_path)\n",
    "    \n",
    "    indexes = np.random.choice(len(eval_data), 10, replace=False)\n"
   ]
  },
  {
   "cell_type": "code",
   "execution_count": 247,
   "metadata": {
    "scrolled": true
   },
   "outputs": [
    {
     "name": "stdout",
     "output_type": "stream",
     "text": [
      "image: <PIL.Image.Image image mode=RGBA size=28x28 at 0x1EF00140DD8>\n",
      "length: 28\n",
      "(28, 28)\n",
      "INFO:tensorflow:Restoring parameters from ./fashion-mnist-cnn/fashion-mnist-1999\n",
      "[8]\n",
      "I think it is an image\n"
     ]
    },
    {
     "data": {
      "image/png": "[encoded data removed]",
      "text/plain": [
       "<matplotlib.figure.Figure at 0x1ef362fa3c8>"
      ]
     },
     "metadata": {},
     "output_type": "display_data"
    }
   ],
   "source": [
    "from PIL import Image\n",
    "\n",
    "#Two variables to edit\n",
    "\n",
    "actual_name = \"shoe\"\n",
    "img = Image.open(\"blacktshirt.png\")\n",
    "\n",
    "'''\n",
    "image.thumbnail((28, 28), Image.ANTIALIAS)\n",
    "\n",
    "print(image.size)\n",
    "#np.append(arr, np.zeros((28 - arr.shape[0]), arr.shape[1]))\n",
    "background = Image.new('L', (28,28), (255))\n",
    "background.paste(\n",
    "    image, (int((28 - image.size[0]) / 2), int((28 - image.size[1]) / 2))\n",
    ")\n",
    "arr = np.array(image)\n",
    "print(arr.shape)\n",
    "arr = np.mean(arr, axis=2).reshape(1, 28, 28, 1)\n",
    "#background.save(\"sompic.png\")\n",
    "'''\n",
    "\n",
    "\n",
    "height = 28\n",
    "width = 28\n",
    "img = img.resize((height,width), Image.ANTIALIAS)\n",
    "print(\"image:\",img)\n",
    "arr = np.array(img)\n",
    "print(\"length:\",len(arr))\n",
    "arr = np.mean(arr, axis=2).reshape(1, 28, 28, 1)\n",
    "\n",
    "\n",
    "print(img.size)\n",
    "\n",
    "with tf.Session() as sess:\n",
    "    checkpoint = tf.train.get_checkpoint_state(path)\n",
    "    saver.restore(sess, checkpoint.model_checkpoint_path)\n",
    "    \n",
    "    \n",
    "\n",
    "    rows = 1\n",
    "    cols = 1\n",
    "    \n",
    "    fig, axes = plt.subplots(rows, cols, figsize=(10,10))\n",
    "    fig.patch.set_facecolor('white')\n",
    "    \n",
    "    plt.imshow(img, cmap= 'Greys')\n",
    "    \n",
    "    guess = sess.run(cnn.choice, feed_dict={cnn.input_layer:arr})\n",
    "    print(guess)\n",
    "    \n",
    "    print(\"I think it is an \" + label_dict[guess[0]])\n",
    "    \n",
    "    guess_name = category_names[guess[0]]\n",
    "    sub.set_title(\"G: \" + guess_name + \" A: \" + actual_name)\n",
    "    plt.tight_layout()\n",
    "    \n",
    "    \n",
    "\n"
   ]
  },
  {
   "cell_type": "code",
   "execution_count": null,
   "metadata": {
    "collapsed": true
   },
   "outputs": [],
   "source": []
  },
  {
   "cell_type": "code",
   "execution_count": null,
   "metadata": {
    "collapsed": true
   },
   "outputs": [],
   "source": []
  }
 ],
 "metadata": {
  "kernelspec": {
   "display_name": "Python 3",
   "language": "python",
   "name": "python3"
  },
  "language_info": {
   "codemirror_mode": {
    "name": "ipython",
    "version": 3
   },
   "file_extension": ".py",
   "mimetype": "text/x-python",
   "name": "python",
   "nbconvert_exporter": "python",
   "pygments_lexer": "ipython3",
   "version": "3.6.3"
  }
 },
 "nbformat": 4,
 "nbformat_minor": 1
}
